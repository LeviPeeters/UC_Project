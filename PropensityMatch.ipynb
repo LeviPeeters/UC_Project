{
 "cells": [
  {
   "cell_type": "code",
   "execution_count": 1,
   "metadata": {},
   "outputs": [],
   "source": [
    "%matplotlib inline\n",
    "\n",
    "import pandas as pd\n",
    "import geopandas as gpd\n",
    "import numpy as np\n",
    "import matplotlib.pyplot as plt\n",
    "from statsmodels.miscmodels.ordinal_model import OrderedModel\n",
    "import networkx as nx\n",
    "\n",
    "pd.options.display.max_seq_items = 2000\n",
    "\n",
    "# Two crs, one for coordinates and a projected one to compute areas\n",
    "crs_geographical = \"epsg:4326\"\n",
    "crs_projected = \"epsg:28992\"\n",
    "\n",
    "# Confounder names\n",
    "confounders = [ \n",
    "           \"P_00_14_JR\", 'P_15_24_JR','P_25_44_JR','P_45_64_JR', 'P_65_EO_JR',  # Age distribution\n",
    "           'P_LAAGINKP', 'BEV_DICHTH', 'WWB_UITTOT', 'WW_UIT_TOT', 'AO_UIT_TOT' # Confounders\n",
    "           ]\n",
    "\n",
    "# Small number to add \n",
    "epsilon = 1e-8"
   ]
  },
  {
   "cell_type": "code",
   "execution_count": 2,
   "metadata": {},
   "outputs": [],
   "source": [
    "def ReadData(filepath):\n",
    "    # Read data\n",
    "    gdf = gpd.read_file(filepath, \n",
    "                        GEOM_POSSIBLE_NAMES=\"geometry\", # Having a column named 'geometry' is too hard for geopandas\n",
    "                        KEEP_GEOM_COLUMNS=\"NO\")\n",
    "\n",
    "    # Don't ask me where this column came from\n",
    "    gdf.drop([\"field_1\"], axis=1, inplace=True)\n",
    "\n",
    "    gdf[\"DEPRESSION_RISK\"] = gdf[\"DEPRESSION_RISK\"].str.replace(',','.')\n",
    "\n",
    "    # Set the columns as floats \n",
    "    for col in confounders + [\"area\", \"percent_green\", \"percent_blue\", \"percent_greenblue\", \"DEPRESSION_RISK\"]:\n",
    "        gdf[col] = gdf[col].astype('float')\n",
    "\n",
    "        # Normalize the column \n",
    "        gdf[col] = (gdf[col] - gdf[col].min()) / (gdf[col].max() - gdf[col].min())\n",
    "        # print(gdf[col].min(), gdf[col].mean(), gdf[col].max() )\n",
    "    return gdf"
   ]
  },
  {
   "cell_type": "code",
   "execution_count": 44,
   "metadata": {},
   "outputs": [],
   "source": [
    "class PropensityMatching():\n",
    "    def __init__(self,\n",
    "                 name,\n",
    "                 y,\n",
    "                 z,\n",
    "                 conf,\n",
    "                 nlevels,\n",
    "                 random_sample = False,\n",
    "                 null = False\n",
    "        ) -> None:\n",
    "\n",
    "        self.name = name\n",
    "        self.y = y.values\n",
    "        self.z = z.values\n",
    "        self.nlevels = nlevels\n",
    "        if null:\n",
    "            np.random.shuffle(self.z)\n",
    "        if random_sample:\n",
    "            self.z = np.random.random_sample(size=self.z.shape)\n",
    "        self.null = null\n",
    "        self.random_sample = random_sample\n",
    "        self.conf = conf\n",
    "        \n",
    "        \n",
    "    def CalculatePropensityScore(self, plot=False):\n",
    "        if not self.random_sample:\n",
    "            # We want to make the first bin really small, so it only has the zeroes\n",
    "            edges = np.array([-0.000001] + list(np.linspace(0.00000001, self.z.max()+epsilon, self.nlevels)))\n",
    "        else:\n",
    "            # This is not nessecary when randomly sampling greenspace\n",
    "            edges = np.linspace(0, self.z.max()+epsilon, self.nlevels+1)\n",
    "\n",
    "        self.discrete= pd.cut(self.z, bins=edges, labels=np.arange(0,self.nlevels))\n",
    "                \n",
    "        if plot:\n",
    "            # TODO: Make this look nice\n",
    "            plt.hist(self.discrete, bins=self.nlevels)\n",
    "            plt.show()\n",
    "        \n",
    "        mod_log = OrderedModel(self.z, self.conf, distr='logit')\n",
    "\n",
    "        res_log = mod_log.fit(method='bfgs', disp=False)\n",
    "\n",
    "        predicted = res_log.model.predict(res_log.params, exog=self.conf)\n",
    "\n",
    "        self.propensity = np.array([predicted[i, self.discrete[i]] for i in range(len(self.z))])\n",
    "        return self.propensity\n",
    "\n",
    "\n",
    "    def DistanceMatrix(self):\n",
    "        self.d = np.zeros(shape=(len(self.z), len(self.z)))\n",
    "\n",
    "        dlist = []\n",
    "\n",
    "        for i in range(self.d.shape[0]):\n",
    "            for j in range(self.d.shape[1]):\n",
    "                self.d[i,j] = (abs(self.propensity[i] - self.propensity[j])) / (abs(self.z[i] - self.z[j])+epsilon)\n",
    "                dlist.append(abs(self.z[i] - self.z[j]))\n",
    "        return self.d\n",
    "\n",
    "\n",
    "    def MinWeightMaximalMatch(self):\n",
    "        G = nx.Graph(self.d)\n",
    "        match_unordered = nx.min_weight_matching(G)\n",
    "\n",
    "        # array with low in col 0 and high in col 1\n",
    "        self.match = np.zeros(shape=(len(match_unordered), 2), dtype=int)\n",
    "\n",
    "        for idx, pair in enumerate(match_unordered):\n",
    "            i = pair[0]\n",
    "            j = pair[1]\n",
    "            if self.z[i] < self.z[j]:\n",
    "                self.match[idx,0] = i\n",
    "                self.match[idx,1] = j\n",
    "            else:\n",
    "                self.match[idx,0] = j\n",
    "                self.match[idx,1] = i\n",
    "        return self.match\n",
    "\n",
    "\n",
    "    def TreatmentEffect(self, threshold=None):\n",
    "        self.TE = []\n",
    "        for i, j in self.match:\n",
    "            te = (self.y[i] - self.y[j])/(self.z[i] - self.z[j])\n",
    "            if not threshold or abs(te) < threshold:\n",
    "                self.TE.append(te)\n",
    "        self.TE = np.array(self.TE)\n",
    "        self.ATE = np.sum(self.TE)\n",
    "        return self.TE, self.ATE\n",
    "    \n",
    "    \n",
    "    def HighAndLowGroups(self, dec=4):\n",
    "        matches = np.zeros(shape=(self.nlevels, self.nlevels))\n",
    "\n",
    "        high = []\n",
    "        low = []\n",
    "        for i, j in self.match:\n",
    "            low.append(self.z[i])\n",
    "            high.append(self.z[j])\n",
    "            level_low = self.discrete[i]\n",
    "            level_high = self.discrete[j]\n",
    "            matches[level_high, level_low] += 1\n",
    "\n",
    "        plt.imshow(matches, origin='lower')\n",
    "        plt.xlabel(\"Low dose unit\")\n",
    "        plt.ylabel(\"High dose unit\")\n",
    "        plt.title(f\"Distribution of treatments per match\")\n",
    "        plt.show()\n",
    "\n",
    "        print(f\"Treatment distribution over high and low groups\")\n",
    "        print(f\"High: mean={round(np.mean(high),dec)}, std={round(np.std(high),dec)}, min={round(np.min(high),dec)}, max={round(np.max(high),dec)}\")\n",
    "        print(f\"Low: mean={round(np.mean(low),dec)}, std={round(np.std(low),dec)}, min={round(np.min(low),dec)}, max={round(np.max(low),dec)}\")\n",
    "    \n",
    "    def DescribeTreatmentEffect(self, dec=3):\n",
    "        print(f\"{self.name } & {round(self.ATE, dec)} & {round(self.TE.min(), dec)} & {round(np.percentile(self.TE, 25), dec)} & {round(np.percentile(self.TE, 75), dec)} & {round(self.TE.max(), dec)} \\\\\\\\\")        \n"
   ]
  },
  {
   "cell_type": "code",
   "execution_count": 46,
   "metadata": {},
   "outputs": [
    {
     "name": "stderr",
     "output_type": "stream",
     "text": [
      "/home/levi/.local/lib/python3.10/site-packages/statsmodels/miscmodels/ordinal_model.py:419: FutureWarning: Support for multi-dimensional indexing (e.g. `obj[:, None]`) is deprecated and will be removed in a future version.  Convert to a numpy array before indexing instead.\n",
      "  xb = xb[:, None]\n"
     ]
    },
    {
     "data": {
      "image/png": "[encoded data removed]",
      "text/plain": [
       "<Figure size 640x480 with 1 Axes>"
      ]
     },
     "metadata": {},
     "output_type": "display_data"
    },
    {
     "name": "stdout",
     "output_type": "stream",
     "text": [
      "Treatment distribution over high and low groups\n",
      "High: mean=0.7036, std=0.2155, min=0.0839, max=0.998\n",
      "Low: mean=0.275, std=0.1907, min=0.0009, max=0.8787\n"
     ]
    },
    {
     "data": {
      "text/plain": [
       "-3.2061305887503098"
      ]
     },
     "execution_count": 46,
     "metadata": {},
     "output_type": "execute_result"
    }
   ],
   "source": [
    "# Run the process with randomly sampled greenspace to show the matching works\n",
    "gdf = ReadData(\"data/prepared_data.csv\")\n",
    "\n",
    "green_random = PropensityMatching(\n",
    "    \"Green Random\",\n",
    "    gdf[\"DEPRESSION_RISK\"], \n",
    "    gdf['percent_green'],\n",
    "    gdf[confounders+[\"percent_blue\"]],\n",
    "    10,\n",
    "    random_sample=True\n",
    ")\n",
    "green_random.CalculatePropensityScore()\n",
    "green_random.DistanceMatrix()\n",
    "green_random.MinWeightMaximalMatch()\n",
    "green_random.TreatmentEffect()\n",
    "green_random.HighAndLowGroups()\n",
    "green_random.ATE"
   ]
  },
  {
   "cell_type": "code",
   "execution_count": 36,
   "metadata": {},
   "outputs": [
    {
     "name": "stdout",
     "output_type": "stream",
     "text": [
      "Green Random\n",
      "            & 213.266\n",
      "            & -392.418\n",
      "            & -2.548\n",
      "            & 3.837\n",
      "            & 1101.555\n",
      "            \\\\\n"
     ]
    }
   ],
   "source": [
    "green_random.DescribeTreatmentEffect()"
   ]
  },
  {
   "cell_type": "code",
   "execution_count": 37,
   "metadata": {},
   "outputs": [
    {
     "name": "stdout",
     "output_type": "stream",
     "text": [
      "[1, 1, 1, 1, 1, ..., 0, 0, 0, 0, 2]\n",
      "Length: 899\n",
      "Categories (10, int64): [0 < 1 < 2 < 3 ... 6 < 7 < 8 < 9]\n",
      "899\n"
     ]
    },
    {
     "name": "stderr",
     "output_type": "stream",
     "text": [
      "/home/levi/.local/lib/python3.10/site-packages/statsmodels/miscmodels/ordinal_model.py:419: FutureWarning: Support for multi-dimensional indexing (e.g. `obj[:, None]`) is deprecated and will be removed in a future version.  Convert to a numpy array before indexing instead.\n",
      "  xb = xb[:, None]\n"
     ]
    },
    {
     "name": "stdout",
     "output_type": "stream",
     "text": [
      "0.0 1.0\n"
     ]
    },
    {
     "data": {
      "image/png": "[encoded data removed]",
      "text/plain": [
       "<Figure size 640x480 with 1 Axes>"
      ]
     },
     "metadata": {},
     "output_type": "display_data"
    },
    {
     "name": "stdout",
     "output_type": "stream",
     "text": [
      "Treatment distribution over high and low groups\n",
      "High: mean=0.1198, std=0.1687, min=0.0005, max=1.0\n",
      "Low: mean=0.0009, std=0.0019, min=0.0, max=0.0138\n"
     ]
    },
    {
     "data": {
      "text/plain": [
       "213.26587362395531"
      ]
     },
     "execution_count": 37,
     "metadata": {},
     "output_type": "execute_result"
    }
   ],
   "source": [
    "# Run the process for greenspace\n",
    "gdf = ReadData(\"data/prepared_data.csv\")\n",
    "\n",
    "green = PropensityMatching(\n",
    "    \"Green\",\n",
    "    gdf[\"DEPRESSION_RISK\"], \n",
    "    gdf['percent_green'],\n",
    "    gdf[confounders+[\"percent_blue\"]],\n",
    "    10,\n",
    ")\n",
    "green.CalculatePropensityScore()\n",
    "green.DistanceMatrix()\n",
    "green.MinWeightMaximalMatch()\n",
    "green.TreatmentEffect()\n",
    "green.HighAndLowGroups()\n",
    "green.ATE"
   ]
  },
  {
   "cell_type": "code",
   "execution_count": 38,
   "metadata": {},
   "outputs": [
    {
     "name": "stdout",
     "output_type": "stream",
     "text": [
      "[1, 1, 1, 1, 1, ..., 0, 1, 0, 1, 1]\n",
      "Length: 899\n",
      "Categories (10, int64): [0 < 1 < 2 < 3 ... 6 < 7 < 8 < 9]\n",
      "899\n"
     ]
    },
    {
     "name": "stderr",
     "output_type": "stream",
     "text": [
      "/home/levi/.local/lib/python3.10/site-packages/statsmodels/miscmodels/ordinal_model.py:419: FutureWarning: Support for multi-dimensional indexing (e.g. `obj[:, None]`) is deprecated and will be removed in a future version.  Convert to a numpy array before indexing instead.\n",
      "  xb = xb[:, None]\n"
     ]
    },
    {
     "name": "stdout",
     "output_type": "stream",
     "text": [
      "0.0 1.0\n"
     ]
    },
    {
     "data": {
      "image/png": "[encoded data removed]",
      "text/plain": [
       "<Figure size 640x480 with 1 Axes>"
      ]
     },
     "metadata": {},
     "output_type": "display_data"
    },
    {
     "name": "stdout",
     "output_type": "stream",
     "text": [
      "Treatment distribution over high and low groups\n",
      "High: mean=0.1502, std=0.1616, min=0.0173, max=1.0\n",
      "Low: mean=0.0227, std=0.0237, min=0.0, max=0.1014\n"
     ]
    },
    {
     "data": {
      "text/plain": [
       "-660.4107606825913"
      ]
     },
     "execution_count": 38,
     "metadata": {},
     "output_type": "execute_result"
    }
   ],
   "source": [
    "# Run the process for bluespace\n",
    "gdf = ReadData(\"data/prepared_data.csv\")\n",
    "\n",
    "blue = PropensityMatching(\n",
    "    \"Blue\",\n",
    "    gdf[\"DEPRESSION_RISK\"], \n",
    "    gdf['percent_blue'],\n",
    "    gdf[confounders+[\"percent_green\"]],\n",
    "    10,\n",
    ")\n",
    "blue.CalculatePropensityScore()\n",
    "blue.DistanceMatrix()\n",
    "blue.MinWeightMaximalMatch()\n",
    "blue.TreatmentEffect()\n",
    "blue.HighAndLowGroups()\n",
    "blue.ATE"
   ]
  },
  {
   "cell_type": "code",
   "execution_count": 39,
   "metadata": {},
   "outputs": [
    {
     "name": "stdout",
     "output_type": "stream",
     "text": [
      "[1, 1, 1, 1, 1, ..., 0, 0, 0, 0, 1]\n",
      "Length: 899\n",
      "Categories (10, int64): [0 < 1 < 2 < 3 ... 6 < 7 < 8 < 9]\n",
      "899\n"
     ]
    },
    {
     "name": "stderr",
     "output_type": "stream",
     "text": [
      "/home/levi/.local/lib/python3.10/site-packages/statsmodels/miscmodels/ordinal_model.py:419: FutureWarning: Support for multi-dimensional indexing (e.g. `obj[:, None]`) is deprecated and will be removed in a future version.  Convert to a numpy array before indexing instead.\n",
      "  xb = xb[:, None]\n"
     ]
    },
    {
     "name": "stdout",
     "output_type": "stream",
     "text": [
      "0.0 1.0\n"
     ]
    },
    {
     "name": "stderr",
     "output_type": "stream",
     "text": [
      "/tmp/ipykernel_34889/65853879.py:87: RuntimeWarning: divide by zero encountered in double_scalars\n",
      "  te = (self.y[i] - self.y[j])/(self.z[i] - self.z[j])\n",
      "/home/levi/.local/lib/python3.10/site-packages/numpy/core/fromnumeric.py:86: RuntimeWarning: invalid value encountered in reduce\n",
      "  return ufunc.reduce(obj, axis, dtype, out, **passkwargs)\n"
     ]
    },
    {
     "data": {
      "image/png": "[encoded data removed]",
      "text/plain": [
       "<Figure size 640x480 with 1 Axes>"
      ]
     },
     "metadata": {},
     "output_type": "display_data"
    },
    {
     "name": "stdout",
     "output_type": "stream",
     "text": [
      "Treatment distribution over high and low groups\n",
      "High: mean=0.0696, std=0.1422, min=0.0, max=1.0\n",
      "Low: mean=0.0, std=0.0001, min=0.0, max=0.0006\n"
     ]
    },
    {
     "data": {
      "text/plain": [
       "nan"
      ]
     },
     "execution_count": 39,
     "metadata": {},
     "output_type": "execute_result"
    }
   ],
   "source": [
    "# Run the process for blue- and greenspace\n",
    "gdf = ReadData(\"data/prepared_data.csv\")\n",
    "\n",
    "bluegreen = PropensityMatching(\n",
    "    \"Blue*Green\",\n",
    "    gdf[\"DEPRESSION_RISK\"], \n",
    "    gdf['percent_greenblue'],\n",
    "    gdf[confounders],\n",
    "    10,\n",
    ")\n",
    "bluegreen.CalculatePropensityScore()\n",
    "bluegreen.DistanceMatrix()\n",
    "bluegreen.MinWeightMaximalMatch()\n",
    "bluegreen.TreatmentEffect()\n",
    "bluegreen.HighAndLowGroups()\n",
    "bluegreen.ATE"
   ]
  },
  {
   "cell_type": "code",
   "execution_count": 40,
   "metadata": {},
   "outputs": [
    {
     "name": "stdout",
     "output_type": "stream",
     "text": [
      "[1, 1, 1, 1, 0, ..., 0, 0, 1, 1, 1]\n",
      "Length: 899\n",
      "Categories (10, int64): [0 < 1 < 2 < 3 ... 6 < 7 < 8 < 9]\n",
      "899\n"
     ]
    },
    {
     "name": "stderr",
     "output_type": "stream",
     "text": [
      "/home/levi/.local/lib/python3.10/site-packages/statsmodels/miscmodels/ordinal_model.py:419: FutureWarning: Support for multi-dimensional indexing (e.g. `obj[:, None]`) is deprecated and will be removed in a future version.  Convert to a numpy array before indexing instead.\n",
      "  xb = xb[:, None]\n"
     ]
    },
    {
     "name": "stdout",
     "output_type": "stream",
     "text": [
      "0.0 1.0\n"
     ]
    },
    {
     "data": {
      "image/png": "[encoded data removed]",
      "text/plain": [
       "<Figure size 640x480 with 1 Axes>"
      ]
     },
     "metadata": {},
     "output_type": "display_data"
    },
    {
     "name": "stdout",
     "output_type": "stream",
     "text": [
      "Treatment distribution over high and low groups\n",
      "High: mean=0.1197, std=0.1688, min=0.001, max=1.0\n",
      "Low: mean=0.001, std=0.0021, min=0.0, max=0.0168\n"
     ]
    },
    {
     "data": {
      "text/plain": [
       "-2390.087919383359"
      ]
     },
     "execution_count": 40,
     "metadata": {},
     "output_type": "execute_result"
    }
   ],
   "source": [
    "# Run the process for greenspace null\n",
    "gdf = ReadData(\"data/prepared_data.csv\")\n",
    "\n",
    "greennull = PropensityMatching(\n",
    "    \"Green Null\",\n",
    "    gdf[\"DEPRESSION_RISK\"], \n",
    "    gdf['percent_green'],\n",
    "    gdf[confounders+[\"percent_blue\"]],\n",
    "    10,\n",
    "    null = True\n",
    ")\n",
    "greennull.CalculatePropensityScore()\n",
    "greennull.DistanceMatrix()\n",
    "greennull.MinWeightMaximalMatch()\n",
    "greennull.TreatmentEffect()\n",
    "greennull.HighAndLowGroups()\n",
    "greennull.ATE"
   ]
  },
  {
   "cell_type": "code",
   "execution_count": 41,
   "metadata": {},
   "outputs": [
    {
     "name": "stdout",
     "output_type": "stream",
     "text": [
      "[5, 1, 2, 1, 1, ..., 1, 1, 1, 0, 1]\n",
      "Length: 899\n",
      "Categories (10, int64): [0 < 1 < 2 < 3 ... 6 < 7 < 8 < 9]\n",
      "899\n"
     ]
    },
    {
     "name": "stderr",
     "output_type": "stream",
     "text": [
      "/home/levi/.local/lib/python3.10/site-packages/statsmodels/miscmodels/ordinal_model.py:419: FutureWarning: Support for multi-dimensional indexing (e.g. `obj[:, None]`) is deprecated and will be removed in a future version.  Convert to a numpy array before indexing instead.\n",
      "  xb = xb[:, None]\n"
     ]
    },
    {
     "name": "stdout",
     "output_type": "stream",
     "text": [
      "0.0 1.0\n"
     ]
    },
    {
     "data": {
      "image/png": "[encoded data removed]",
      "text/plain": [
       "<Figure size 640x480 with 1 Axes>"
      ]
     },
     "metadata": {},
     "output_type": "display_data"
    },
    {
     "name": "stdout",
     "output_type": "stream",
     "text": [
      "Treatment distribution over high and low groups\n",
      "High: mean=0.1513, std=0.1609, min=0.0187, max=1.0\n",
      "Low: mean=0.0216, std=0.0223, min=0.0, max=0.1175\n"
     ]
    },
    {
     "data": {
      "text/plain": [
       "-52.16629360213501"
      ]
     },
     "execution_count": 41,
     "metadata": {},
     "output_type": "execute_result"
    }
   ],
   "source": [
    "# Run the process for bluespace null\n",
    "gdf = ReadData(\"data/prepared_data.csv\")\n",
    "\n",
    "bluenull = PropensityMatching(\n",
    "    \"Blue Null\",\n",
    "    gdf[\"DEPRESSION_RISK\"], \n",
    "    gdf['percent_blue'],\n",
    "    gdf[confounders+[\"percent_green\"]],\n",
    "    10,\n",
    "    null = True\n",
    ")\n",
    "bluenull.CalculatePropensityScore()\n",
    "bluenull.DistanceMatrix()\n",
    "bluenull.MinWeightMaximalMatch()\n",
    "bluenull.TreatmentEffect()\n",
    "bluenull.HighAndLowGroups()\n",
    "bluenull.ATE"
   ]
  },
  {
   "cell_type": "code",
   "execution_count": 42,
   "metadata": {},
   "outputs": [
    {
     "name": "stdout",
     "output_type": "stream",
     "text": [
      "[1, 0, 0, 1, 0, ..., 1, 0, 1, 0, 1]\n",
      "Length: 899\n",
      "Categories (10, int64): [0 < 1 < 2 < 3 ... 6 < 7 < 8 < 9]\n",
      "899\n"
     ]
    },
    {
     "name": "stderr",
     "output_type": "stream",
     "text": [
      "/home/levi/.local/lib/python3.10/site-packages/statsmodels/miscmodels/ordinal_model.py:419: FutureWarning: Support for multi-dimensional indexing (e.g. `obj[:, None]`) is deprecated and will be removed in a future version.  Convert to a numpy array before indexing instead.\n",
      "  xb = xb[:, None]\n"
     ]
    },
    {
     "name": "stdout",
     "output_type": "stream",
     "text": [
      "0.0 1.0\n"
     ]
    },
    {
     "name": "stderr",
     "output_type": "stream",
     "text": [
      "/tmp/ipykernel_34889/65853879.py:87: RuntimeWarning: divide by zero encountered in double_scalars\n",
      "  te = (self.y[i] - self.y[j])/(self.z[i] - self.z[j])\n",
      "/home/levi/.local/lib/python3.10/site-packages/numpy/core/fromnumeric.py:86: RuntimeWarning: invalid value encountered in reduce\n",
      "  return ufunc.reduce(obj, axis, dtype, out, **passkwargs)\n"
     ]
    },
    {
     "data": {
      "image/png": "[encoded data removed]",
      "text/plain": [
       "<Figure size 640x480 with 1 Axes>"
      ]
     },
     "metadata": {},
     "output_type": "display_data"
    },
    {
     "name": "stdout",
     "output_type": "stream",
     "text": [
      "Treatment distribution over high and low groups\n",
      "High: mean=0.0696, std=0.1422, min=0.0, max=1.0\n",
      "Low: mean=0.0, std=0.0001, min=0.0, max=0.0009\n"
     ]
    },
    {
     "data": {
      "text/plain": [
       "nan"
      ]
     },
     "execution_count": 42,
     "metadata": {},
     "output_type": "execute_result"
    }
   ],
   "source": [
    "# Run the process for blue- and greenspace null\n",
    "gdf = ReadData(\"data/prepared_data.csv\")\n",
    "\n",
    "bluegreennull = PropensityMatching(\n",
    "    \"Blue*Green Null\",\n",
    "    gdf[\"DEPRESSION_RISK\"], \n",
    "    gdf['percent_greenblue'],\n",
    "    gdf[confounders],\n",
    "    10,\n",
    "    null = True\n",
    ")\n",
    "bluegreennull.CalculatePropensityScore()\n",
    "bluegreennull.DistanceMatrix()\n",
    "bluegreennull.MinWeightMaximalMatch()\n",
    "bluegreennull.TreatmentEffect()\n",
    "bluegreennull.HighAndLowGroups()\n",
    "bluegreennull.ATE"
   ]
  },
  {
   "cell_type": "code",
   "execution_count": 45,
   "metadata": {},
   "outputs": [
    {
     "name": "stdout",
     "output_type": "stream",
     "text": [
      "Green\n",
      "            & 213.266\n",
      "            & -392.418\n",
      "            & -2.548\n",
      "            & 3.837\n",
      "            & 1101.555\n",
      "            \\\\\n",
      "Blue\n",
      "            & -660.411\n",
      "            & -300.181\n",
      "            & -1.799\n",
      "            & 2.325\n",
      "            & 103.204\n",
      "            \\\\\n",
      "Blue*Green\n",
      "            & nan\n",
      "            & -inf\n",
      "            & -12.368\n",
      "            & 8.516\n",
      "            & inf\n",
      "            \\\\\n",
      "Green Null\n",
      "            & -2390.088\n",
      "            & -1272.6\n",
      "            & -3.456\n",
      "            & 3.152\n",
      "            & 264.494\n",
      "            \\\\\n",
      "Blue Null\n",
      "            & -52.166\n",
      "            & -157.423\n",
      "            & -1.931\n",
      "            & 1.932\n",
      "            & 51.409\n",
      "            \\\\\n",
      "Blue*Green Null\n",
      "            & nan\n",
      "            & -inf\n",
      "            & -7.524\n",
      "            & 12.148\n",
      "            & inf\n",
      "            \\\\\n"
     ]
    }
   ],
   "source": [
    "# Print all of the ATE's in nice latex format\n",
    "\n",
    "green.DescribeTreatmentEffect()\n",
    "blue.DescribeTreatmentEffect()\n",
    "bluegreen.DescribeTreatmentEffect()\n",
    "greennull.DescribeTreatmentEffect()\n",
    "bluenull.DescribeTreatmentEffect()\n",
    "bluegreennull.DescribeTreatmentEffect()\n"
   ]
  },
  {
   "cell_type": "code",
   "execution_count": null,
   "metadata": {},
   "outputs": [],
   "source": []
  }
 ],
 "metadata": {
  "kernelspec": {
   "display_name": "Python 3",
   "language": "python",
   "name": "python3"
  },
  "language_info": {
   "codemirror_mode": {
    "name": "ipython",
    "version": 3
   },
   "file_extension": ".py",
   "mimetype": "text/x-python",
   "name": "python",
   "nbconvert_exporter": "python",
   "pygments_lexer": "ipython3",
   "version": "3.10.12"
  }
 },
 "nbformat": 4,
 "nbformat_minor": 2
}
