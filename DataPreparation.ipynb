{
 "cells": [
  {
   "cell_type": "code",
   "execution_count": 3,
   "metadata": {},
   "outputs": [],
   "source": [
    "%matplotlib inline\n",
    "\n",
    "import pandas as pd\n",
    "import geopandas as gpd\n",
    "import numpy as np\n",
    "import matplotlib.pyplot as plt\n",
    "import osmnx # For querying OSM using shapefiles\n",
    "from shapely import intersection\n",
    "from shapely.ops import unary_union # To combine multiple shapefiles into one\n",
    "\n",
    "pd.options.display.max_seq_items = 2000\n",
    "pd.set_option('expand_frame_repr', True)\n",
    "pd.set_option('display.max_colwidth', 150)\n",
    "\n",
    "# Two crs, one for coordinates and a projected one to compute areas\n",
    "crs_geographical = \"epsg:4326\"\n",
    "crs_projected = \"epsg:28992\"\n"
   ]
  },
  {
   "cell_type": "code",
   "execution_count": 6,
   "metadata": {},
   "outputs": [
    {
     "name": "stderr",
     "output_type": "stream",
     "text": [
      "/tmp/ipykernel_8330/339464290.py:22: FutureWarning: You are adding a column named 'geometry' to a GeoDataFrame constructed without an active geometry column. Currently, this automatically sets the active geometry column to 'geometry' but in the future that will no longer happen. Instead, either provide geometry to the GeoDataFrame constructor (GeoDataFrame(... geometry=GeoSeries()) or use `set_geometry('geometry')` to explicitly set the active geometry column.\n",
      "  gdf_blue['geometry'] = np.nan\n",
      "/tmp/ipykernel_8330/339464290.py:27: FutureWarning: You are adding a column named 'geometry' to a GeoDataFrame constructed without an active geometry column. Currently, this automatically sets the active geometry column to 'geometry' but in the future that will no longer happen. Instead, either provide geometry to the GeoDataFrame constructor (GeoDataFrame(... geometry=GeoSeries()) or use `set_geometry('geometry')` to explicitly set the active geometry column.\n",
      "  gdf_green['geometry'] = np.nan\n"
     ]
    },
    {
     "name": "stdout",
     "output_type": "stream",
     "text": [
      "125 neighborhoods have no bluespace at all\n",
      "221 neighborhoods have no greenspace at all\n"
     ]
    }
   ],
   "source": [
    "# Load the CBS buurtkaart into a GeoDataFrame\n",
    "# TODO: We may need some metric for availability of sports venues. Buurtkaart has distance to swimming pools and ice skating rings, but not anything else\n",
    "path = '/home/levi/Studie/AI_jaar_2/UC/UC_Project/WijkBuurtkaart_2020_v3/buurt_2020_v3.shp'\n",
    "columns = [\"BU_CODE\", \"BU_NAAM\", \"GM_NAAM\", \n",
    "           \"P_00_14_JR\", 'P_15_24_JR','P_25_44_JR','P_45_64_JR', 'P_65_EO_JR',  # Age distribution\n",
    "           'P_LAAGINKP', 'BEV_DICHTH', 'WWB_UITTOT', 'WW_UIT_TOT', 'AO_UIT_TOT' # Confounders\n",
    "           ]\n",
    "\n",
    "gdf = gpd.read_file(path, include_fields=columns)\n",
    "\n",
    "gdf.loc[gdf[\"GM_NAAM\"] == \"\\'s-Gravenhage\", \"GM_NAAM\"] = \"Den Haag\"\n",
    "\n",
    "# Select the relevant rows\n",
    "gdf = gdf.query(\"GM_NAAM=='Amsterdam' or GM_NAAM=='Tilburg' or GM_NAAM=='Den Haag' or GM_NAAM=='Groningen' or GM_NAAM=='Utrecht'\")\n",
    "\n",
    "# Drop missing rows\n",
    "for name in [\"P_00_14_JR\", 'P_15_24_JR','P_25_44_JR','P_45_64_JR', 'P_65_EO_JR', 'P_LAAGINKP', 'BEV_DICHTH', 'WWB_UITTOT', 'WW_UIT_TOT', 'AO_UIT_TOT']:\n",
    "    gdf.drop(gdf[gdf[name] < -1000].index, inplace=True)\n",
    "\n",
    "# Split out the blue and green geometries\n",
    "gdf_blue = gpd.GeoDataFrame(gdf[[\"BU_CODE\", \"BU_NAAM\", \"GM_NAAM\"]].copy())\n",
    "gdf_blue['geometry'] = np.nan\n",
    "gdf_blue.set_geometry(\"geometry\")\n",
    "gdf_blue.set_crs(crs_geographical, inplace=True)\n",
    "\n",
    "gdf_green = gpd.GeoDataFrame(gdf[[\"BU_CODE\", \"BU_NAAM\", \"GM_NAAM\"]].copy())\n",
    "gdf_green['geometry'] = np.nan\n",
    "gdf_green.set_geometry(\"geometry\")\n",
    "gdf_green.set_crs(crs_geographical, inplace=True)\n",
    "\n",
    "# print(gdf_blue.index.difference(gdf.index))\n",
    "# print(gdf_green.index.difference(gdf.index))\n",
    "# print(gdf.index)\n",
    "\n",
    "# print(gdf.head())\n",
    "# print(gdf_blue.head())\n",
    "# print(gdf_green.head())\n",
    "\n",
    "# Transfrom the buurtkaart to normal coordinates used by normal people\n",
    "gdf.to_crs(crs_geographical, inplace=True)\n",
    "\n",
    "# Features that can be considered blue space\n",
    "blue_features = {\n",
    "    'natural': 'water'\n",
    "}\n",
    "\n",
    "# Features that can be considered green space\n",
    "green_features = {\n",
    "    'landuse': 'recreation_ground',\n",
    "    'landuse': 'village_green',\n",
    "    'landuse': 'grass',\n",
    "    'landuse': 'forest', \n",
    "    'landuse': 'flowerbed',\n",
    "    'landuse': 'meadow',\n",
    "    'leisure': 'garden',\n",
    "    'leisure': \"park\",\n",
    "    'natural': 'tree',\n",
    "    'natural': 'tree_row',\n",
    "    'natural': 'scrub',\n",
    "    'natural': 'wood',\n",
    "    'natural': 'heath',\n",
    "    'natural': 'grassland',\n",
    "    \"barrier\": 'hedge'\n",
    "}\n",
    "\n",
    "# Get water and greenspace for all neighborhoods \n",
    "cnt = 0\n",
    "no_blue_count = 0\n",
    "no_green_count = 0\n",
    "for i, row in gdf.iterrows():\n",
    "    \n",
    "    print(f\"{cnt}/{len(gdf)-1}\", end='\\r')\n",
    "    cnt += 1\n",
    "\n",
    "    try:\n",
    "        # Get the bluespace for this neighborhood from OSM\n",
    "        blue = osmnx.features.features_from_polygon(row[\"geometry\"], blue_features)\n",
    "\n",
    "        # Use shapely union to combine the geometries into one multipolygon\n",
    "        l = []\n",
    "        for unit in blue[\"geometry\"]:\n",
    "            l.append(unit)\n",
    "\n",
    "        neighborhood_blue = intersection(row[\"geometry\"], unary_union(l))\n",
    "        # gdf_blue.loc[gdf_blue[\"BU_CODE\"] == row[\"BU_CODE\"], \"geometry\"] = neighborhood_blue\n",
    "        # gdf_blue.iloc[i, gdf_blue.columns.get_loc(\"geometry\")] = neighborhood_blue\n",
    "        gdf_blue.loc[i, \"geometry\"] = neighborhood_blue\n",
    "\n",
    "    except osmnx._errors.InsufficientResponseError:\n",
    "        no_blue_count += 1\n",
    "    \n",
    "    try:\n",
    "        # Get the greenspace for this neighborhood from OSM\n",
    "        green = osmnx.features.features_from_polygon(row[\"geometry\"], green_features)\n",
    "       \n",
    "        # Use shapely union to combine the geometries into one multipolygon\n",
    "        l = []\n",
    "        for unit in green[\"geometry\"]:\n",
    "            l.append(unit)\n",
    "\n",
    "        neighborhood_green = intersection(row[\"geometry\"], unary_union(l))\n",
    "        # gdf_green.loc[gdf_green[\"BU_CODE\"] == row[\"BU_CODE\"], \"geometry\"] = neighborhood_green \n",
    "        gdf_green.loc[i, \"geometry\"] = neighborhood_green\n",
    "\n",
    "    except osmnx._errors.InsufficientResponseError:\n",
    "        no_green_count += 1\n",
    "    \n",
    "print(f\"{no_blue_count} neighborhoods have no bluespace at all\")\n",
    "print(f\"{no_green_count} neighborhoods have no greenspace at all\")\n"
   ]
  },
  {
   "cell_type": "code",
   "execution_count": 7,
   "metadata": {},
   "outputs": [],
   "source": [
    "# Save and load to not have to do the above over and over again\n",
    "gdf_blue.to_crs(crs_geographical, inplace=True)\n",
    "gdf_green.to_crs(crs_geographical, inplace=True)\n",
    "\n",
    "gdf.to_csv(\"data/gdf_temp.csv\", index=True)\n",
    "gdf_blue.to_csv(\"data/gdf_blue_temp.csv\", index=True)\n",
    "gdf_green.to_csv(\"data/gdf_green_temp.csv\", index=True)"
   ]
  },
  {
   "cell_type": "code",
   "execution_count": 104,
   "metadata": {},
   "outputs": [
    {
     "data": {
      "text/plain": [
       "Amsterdam    403\n",
       "Tilburg      187\n",
       "Den Haag     108\n",
       "Utrecht      106\n",
       "Groningen     95\n",
       "Name: GM_NAAM, dtype: int64"
      ]
     },
     "execution_count": 104,
     "metadata": {},
     "output_type": "execute_result"
    }
   ],
   "source": [
    "# If the above two cells were execute before, they can be skipped by reading the result files instead\n",
    "gdf = gpd.read_file(\"data/gdf_temp.csv\", \n",
    "                    GEOM_POSSIBLE_NAMES=\"geometry\", # Having a column named 'geometry' is too hard for geopandas\n",
    "                    KEEP_GEOM_COLUMNS=\"NO\").set_index('field_1')\n",
    "gdf_blue = gpd.read_file(\"data/gdf_blue_temp.csv\", \n",
    "                    GEOM_POSSIBLE_NAMES=\"geometry\", # Having a column named 'geometry' is too hard for geopandas\n",
    "                    KEEP_GEOM_COLUMNS=\"NO\").set_index('field_1')\n",
    "gdf_green = gpd.read_file(\"data/gdf_green_temp.csv\", \n",
    "                    GEOM_POSSIBLE_NAMES=\"geometry\", # Having a column named 'geometry' is too hard for geopandas\n",
    "                    KEEP_GEOM_COLUMNS=\"NO\").set_index('field_1')"
   ]
  },
  {
   "cell_type": "code",
   "execution_count": 105,
   "metadata": {},
   "outputs": [
    {
     "name": "stdout",
     "output_type": "stream",
     "text": [
      "<class 'geopandas.geodataframe.GeoDataFrame'>\n",
      "Index: 899 entries, 149 to 9038\n",
      "Data columns (total 14 columns):\n",
      " #   Column      Non-Null Count  Dtype   \n",
      "---  ------      --------------  -----   \n",
      " 0   BU_CODE     899 non-null    object  \n",
      " 1   BU_NAAM     899 non-null    object  \n",
      " 2   GM_NAAM     899 non-null    object  \n",
      " 3   BEV_DICHTH  899 non-null    object  \n",
      " 4   P_00_14_JR  899 non-null    object  \n",
      " 5   P_15_24_JR  899 non-null    object  \n",
      " 6   P_25_44_JR  899 non-null    object  \n",
      " 7   P_45_64_JR  899 non-null    object  \n",
      " 8   P_65_EO_JR  899 non-null    object  \n",
      " 9   P_LAAGINKP  899 non-null    object  \n",
      " 10  AO_UIT_TOT  899 non-null    object  \n",
      " 11  WW_UIT_TOT  899 non-null    object  \n",
      " 12  WWB_UITTOT  899 non-null    object  \n",
      " 13  geometry    899 non-null    geometry\n",
      "dtypes: geometry(1), object(13)\n",
      "memory usage: 137.6+ KB\n"
     ]
    },
    {
     "data": {
      "text/plain": [
       "Amsterdam    403\n",
       "Tilburg      187\n",
       "Den Haag     108\n",
       "Utrecht      106\n",
       "Groningen     95\n",
       "Name: GM_NAAM, dtype: int64"
      ]
     },
     "execution_count": 105,
     "metadata": {},
     "output_type": "execute_result"
    }
   ],
   "source": [
    "# Set the correct crs\n",
    "gdf.set_crs(crs_geographical, inplace=True, allow_override=True)\n",
    "gdf_blue.set_crs(crs_geographical, inplace=True, allow_override=True)\n",
    "gdf_green.set_crs(crs_geographical, inplace=True, allow_override=True)\n",
    "\n",
    "# Visualise some information\n",
    "gdf.info()\n",
    "gdf.head(5)\n",
    "gdf.columns"
   ]
  },
  {
   "cell_type": "code",
   "execution_count": 106,
   "metadata": {},
   "outputs": [
    {
     "data": {
      "text/plain": [
       "Amsterdam    403\n",
       "Tilburg      187\n",
       "Den Haag     108\n",
       "Utrecht      106\n",
       "Groningen     95\n",
       "Name: GM_NAAM, dtype: int64"
      ]
     },
     "execution_count": 106,
     "metadata": {},
     "output_type": "execute_result"
    },
    {
     "data": {
      "text/plain": [
       "<Figure size 2500x500 with 0 Axes>"
      ]
     },
     "metadata": {},
     "output_type": "display_data"
    },
    {
     "data": {
      "text/plain": [
       "<Figure size 2500x500 with 0 Axes>"
      ]
     },
     "metadata": {},
     "output_type": "display_data"
    }
   ],
   "source": [
    "# Visualise the blue- and greenspace\n",
    "\n",
    "fig, axes = plt.subplots(1, 5, figsize=(25,5))\n",
    "labels = [\"Amsterdam\", \"Utrecht\", \"Tilburg\", \"Groningen\", \"Den Haag\"]\n",
    "for i in range(5):\n",
    "    ax = axes[i]\n",
    "    label = labels[i]\n",
    "    gdf[gdf[\"GM_NAAM\"] == label].plot(ax=ax, color=\"grey\")\n",
    "    gdf_blue[gdf_blue[\"GM_NAAM\"] == label].plot(ax=ax, color=\"blue\")\n",
    "    bounds = gdf[gdf[\"GM_NAAM\"] == label].total_bounds\n",
    "    ax.set_xlim(bounds[0], bounds[2])\n",
    "    ax.set_ylim(bounds[1], bounds[3])\n",
    "    ax.set_xlabel(\"Long\")\n",
    "    ax.set_ylabel(\"Lat\")\n",
    "    ax.set_title(f\"Bluespace in {label}\")\n",
    "\n",
    "fig.tight_layout()\n",
    "plt.savefig(\"Bluespace.png\", dpi=300)\n",
    "# plt.show()\n",
    "plt.clf()\n",
    "\n",
    "fig, axes = plt.subplots(1, 5, figsize=(25,5))\n",
    "for i in range(5):\n",
    "    ax = axes[i]\n",
    "    label = labels[i]\n",
    "    gdf[gdf[\"GM_NAAM\"] == label].plot(ax=ax, color=\"grey\")\n",
    "    gdf_green[gdf_green[\"GM_NAAM\"] == label].plot(ax=ax, color=\"Green\")\n",
    "    bounds = gdf[gdf[\"GM_NAAM\"] == label].total_bounds\n",
    "    ax.set_xlim(bounds[0], bounds[2])\n",
    "    ax.set_ylim(bounds[1], bounds[3])\n",
    "    ax.set_xlabel(\"Long\")\n",
    "    ax.set_ylabel(\"Lat\")\n",
    "    ax.set_title(f\"Greenspace in {label}\")\n",
    "\n",
    "fig.tight_layout()\n",
    "plt.savefig(\"Greenspace.png\", dpi=300)\n",
    "# plt.show()\n",
    "plt.clf()"
   ]
  },
  {
   "cell_type": "code",
   "execution_count": 107,
   "metadata": {},
   "outputs": [
    {
     "name": "stdout",
     "output_type": "stream",
     "text": [
      "epsg:28992\n",
      "epsg:28992\n",
      "epsg:28992\n",
      "\n",
      "field_1\n",
      "149    POLYGON ((233836.217 582380.178, 233892.194 582356.310, 234005.895 582302.135, 234025.630 582289.961, 234048.209 582259.008, 234131.166 582123.210...\n",
      "Name: geometry, dtype: geometry\n",
      "field_1\n",
      "149    POLYGON ((233892.194 582356.310, 234005.895 582302.135, 234025.630 582289.961, 234048.209 582259.008, 234131.166 582123.210, 234188.240 581967.601...\n",
      "Name: geometry, dtype: geometry\n",
      "field_1\n",
      "149    GEOMETRYCOLLECTION (LINESTRING (233912.000 582277.500, 233913.179 582276.930, 233908.948 582268.490, 233911.219 582267.280, 233910.591 582266.090)...\n",
      "Name: geometry, dtype: geometry\n"
     ]
    },
    {
     "data": {
      "text/plain": [
       "Amsterdam    403\n",
       "Tilburg      187\n",
       "Den Haag     108\n",
       "Utrecht      106\n",
       "Groningen     95\n",
       "Name: GM_NAAM, dtype: int64"
      ]
     },
     "execution_count": 107,
     "metadata": {},
     "output_type": "execute_result"
    }
   ],
   "source": [
    "# Transform coordinates to projection with accurate area \n",
    "gdf.to_crs(crs_projected, inplace=True)\n",
    "print(gdf.crs)\n",
    "gdf_green.to_crs(crs_projected, inplace=True)\n",
    "print(gdf.crs)\n",
    "gdf_blue.to_crs(crs_projected, inplace=True)\n",
    "print(gdf.crs)\n",
    "\n",
    "print()\n",
    "\n",
    "print(gdf.head(1)[\"geometry\"])\n",
    "print(gdf_blue.head(1)[\"geometry\"])\n",
    "print(gdf_green.head(1)[\"geometry\"])\n"
   ]
  },
  {
   "cell_type": "code",
   "execution_count": 108,
   "metadata": {},
   "outputs": [
    {
     "name": "stdout",
     "output_type": "stream",
     "text": [
      "<class 'geopandas.geodataframe.GeoDataFrame'>\n",
      "Index: 899 entries, 149 to 9038\n",
      "Data columns (total 17 columns):\n",
      " #   Column         Non-Null Count  Dtype   \n",
      "---  ------         --------------  -----   \n",
      " 0   BU_CODE        899 non-null    object  \n",
      " 1   BU_NAAM        899 non-null    object  \n",
      " 2   GM_NAAM        899 non-null    object  \n",
      " 3   BEV_DICHTH     899 non-null    object  \n",
      " 4   P_00_14_JR     899 non-null    object  \n",
      " 5   P_15_24_JR     899 non-null    object  \n",
      " 6   P_25_44_JR     899 non-null    object  \n",
      " 7   P_45_64_JR     899 non-null    object  \n",
      " 8   P_65_EO_JR     899 non-null    object  \n",
      " 9   P_LAAGINKP     899 non-null    object  \n",
      " 10  AO_UIT_TOT     899 non-null    object  \n",
      " 11  WW_UIT_TOT     899 non-null    object  \n",
      " 12  WWB_UITTOT     899 non-null    object  \n",
      " 13  geometry       899 non-null    geometry\n",
      " 14  area           899 non-null    float64 \n",
      " 15  percent_blue   899 non-null    float64 \n",
      " 16  percent_green  899 non-null    float64 \n",
      "dtypes: float64(3), geometry(1), object(13)\n",
      "memory usage: 158.7+ KB\n"
     ]
    },
    {
     "data": {
      "text/plain": [
       "Amsterdam    403\n",
       "Tilburg      187\n",
       "Den Haag     108\n",
       "Utrecht      106\n",
       "Groningen     95\n",
       "Name: GM_NAAM, dtype: int64"
      ]
     },
     "execution_count": 108,
     "metadata": {},
     "output_type": "execute_result"
    }
   ],
   "source": [
    "# # Use the geometries to calculate %green and %blue\n",
    "# def calc_blue(geo, blue_geo):\n",
    "#     if (blue_geo) is not None:\n",
    "#         return blue_geo.area / geo.area\n",
    "#     else:\n",
    "#         return 0\n",
    "\n",
    "# def calc_green(geo, green_geo):\n",
    "#     if (green_geo) is not None:\n",
    "#         return green_geo.area / geo.area\n",
    "#     else:\n",
    "#         return 0\n",
    "\n",
    "# gdf[\"percent_blue\"] = gdf.apply(lambda row: calc_blue(row[\"geometry\"], row[\"blue_geometry\"]), axis = 1)\n",
    "# gdf[\"percent_green\"] = gdf.apply(lambda row: calc_green(row[\"geometry\"], row[\"green_geometry\"]), axis = 1)\n",
    "# gdf.to_crs(crs_geographical, inplace=True)\n",
    "\n",
    "def calc_area(geo):\n",
    "    if geo is not None:\n",
    "        return geo.area\n",
    "    else:\n",
    "        return 0\n",
    "\n",
    "gdf[\"area\"] = gdf.apply(lambda row: calc_area(row[\"geometry\"]), axis=1)\n",
    "gdf_blue[\"area\"] = gdf_blue.apply(lambda row: calc_area(row[\"geometry\"]), axis=1)\n",
    "gdf_green[\"area\"] = gdf_green.apply(lambda row: calc_area(row[\"geometry\"]), axis=1)\n",
    "\n",
    "gdf[\"percent_blue\"] = gdf_blue[\"area\"] / gdf[\"area\"]\n",
    "gdf[\"percent_green\"] = gdf_green[\"area\"] / gdf[\"area\"]\n",
    "\n",
    "gdf.info()"
   ]
  },
  {
   "cell_type": "code",
   "execution_count": 109,
   "metadata": {},
   "outputs": [
    {
     "name": "stdout",
     "output_type": "stream",
     "text": [
      "epsg:4326\n",
      "epsg:4326\n",
      "epsg:4326\n"
     ]
    },
    {
     "data": {
      "text/plain": [
       "Amsterdam    403\n",
       "Tilburg      187\n",
       "Den Haag     108\n",
       "Utrecht      106\n",
       "Groningen     95\n",
       "Name: GM_NAAM, dtype: int64"
      ]
     },
     "execution_count": 109,
     "metadata": {},
     "output_type": "execute_result"
    }
   ],
   "source": [
    "# Set the geographies back into normal coordinates\n",
    "gdf.to_crs(crs_geographical, inplace=True)\n",
    "print(gdf.crs)\n",
    "gdf.to_crs(crs_geographical, inplace=True)\n",
    "print(gdf.crs)\n",
    "gdf.to_crs(crs_geographical, inplace=True)\n",
    "print(gdf.crs)"
   ]
  },
  {
   "cell_type": "code",
   "execution_count": 118,
   "metadata": {},
   "outputs": [
    {
     "data": {
      "image/png": "[encoded data removed]",
      "text/plain": [
       "<Figure size 1000x500 with 2 Axes>"
      ]
     },
     "metadata": {},
     "output_type": "display_data"
    }
   ],
   "source": [
    "# Visualise the distibution of green- and bluespace\n",
    "# TODO: Make this look nice\n",
    "fig, (ax1, ax2) = plt.subplots(1,2,figsize=(10,5))\n",
    "labels = [\"Amsterdam\", \"Utrecht\", \"Den Haag\", \"Tilburg\", \"Groningen\"]\n",
    "\n",
    "to_plot = []\n",
    "for label in labels:\n",
    "    to_plot.append(gdf[gdf[\"GM_NAAM\"] == label][\"percent_green\"])\n",
    "ax1.hist(to_plot, bins=10, histtype=\"bar\", label=labels)\n",
    "ax1.legend()\n",
    "\n",
    "to_plot = []\n",
    "for label in labels:\n",
    "    to_plot.append(gdf[gdf[\"GM_NAAM\"] == label][\"percent_blue\"])\n",
    "ax2.hist(to_plot, bins=10, histtype=\"bar\", label=labels)\n",
    "ax2.legend()\n",
    "\n",
    "\n",
    "plt.show()"
   ]
  },
  {
   "cell_type": "code",
   "execution_count": 111,
   "metadata": {},
   "outputs": [
    {
     "name": "stdout",
     "output_type": "stream",
     "text": [
      "<class 'pandas.core.frame.DataFrame'>\n",
      "Int64Index: 1333 entries, 0 to 1345\n",
      "Data columns (total 3 columns):\n",
      " #   Column           Non-Null Count  Dtype \n",
      "---  ------           --------------  ----- \n",
      " 0   BU_NAAM          1333 non-null   object\n",
      " 1   GM_NAAM          1332 non-null   object\n",
      " 2   DEPRESSION_RISK  1332 non-null   object\n",
      "dtypes: object(3)\n",
      "memory usage: 41.7+ KB\n",
      "<class 'pandas.core.frame.DataFrame'>\n",
      "Int64Index: 1333 entries, 0 to 1345\n",
      "Data columns (total 3 columns):\n",
      " #   Column           Non-Null Count  Dtype \n",
      "---  ------           --------------  ----- \n",
      " 0   BU_NAAM          1333 non-null   object\n",
      " 1   GM_NAAM          1332 non-null   object\n",
      " 2   DEPRESSION_RISK  1332 non-null   object\n",
      "dtypes: object(3)\n",
      "memory usage: 41.7+ KB\n"
     ]
    },
    {
     "data": {
      "text/html": [
       "<div>\n",
       "<style scoped>\n",
       "    .dataframe tbody tr th:only-of-type {\n",
       "        vertical-align: middle;\n",
       "    }\n",
       "\n",
       "    .dataframe tbody tr th {\n",
       "        vertical-align: top;\n",
       "    }\n",
       "\n",
       "    .dataframe thead th {\n",
       "        text-align: right;\n",
       "    }\n",
       "</style>\n",
       "<table border=\"1\" class=\"dataframe\">\n",
       "  <thead>\n",
       "    <tr style=\"text-align: right;\">\n",
       "      <th></th>\n",
       "      <th>BU_NAAM</th>\n",
       "      <th>GM_NAAM</th>\n",
       "      <th>DEPRESSION_RISK</th>\n",
       "    </tr>\n",
       "  </thead>\n",
       "  <tbody>\n",
       "    <tr>\n",
       "      <th>0</th>\n",
       "      <td>Amsterdam</td>\n",
       "      <td>Amsterdam</td>\n",
       "      <td>9,4</td>\n",
       "    </tr>\n",
       "    <tr>\n",
       "      <th>1</th>\n",
       "      <td>Burgwallen-Oude Zijde</td>\n",
       "      <td>Amsterdam</td>\n",
       "      <td>8,8</td>\n",
       "    </tr>\n",
       "    <tr>\n",
       "      <th>2</th>\n",
       "      <td>Kop Zeedijk</td>\n",
       "      <td>Amsterdam</td>\n",
       "      <td>8,2</td>\n",
       "    </tr>\n",
       "    <tr>\n",
       "      <th>3</th>\n",
       "      <td>Oude Kerk e.o.</td>\n",
       "      <td>Amsterdam</td>\n",
       "      <td>9,4</td>\n",
       "    </tr>\n",
       "    <tr>\n",
       "      <th>4</th>\n",
       "      <td>Burgwallen Oost</td>\n",
       "      <td>Amsterdam</td>\n",
       "      <td>9,2</td>\n",
       "    </tr>\n",
       "  </tbody>\n",
       "</table>\n",
       "</div>"
      ],
      "text/plain": [
       "                 BU_NAAM    GM_NAAM DEPRESSION_RISK\n",
       "0              Amsterdam  Amsterdam             9,4\n",
       "1  Burgwallen-Oude Zijde  Amsterdam             8,8\n",
       "2            Kop Zeedijk  Amsterdam             8,2\n",
       "3         Oude Kerk e.o.  Amsterdam             9,4\n",
       "4        Burgwallen Oost  Amsterdam             9,2"
      ]
     },
     "execution_count": 111,
     "metadata": {},
     "output_type": "execute_result"
    }
   ],
   "source": [
    "# Load Depression risk data fromm buurtatlas\n",
    "path_buurtatlas = '/home/levi/Studie/AI_jaar_2/UC/UC_Project/data/Gezondheid_per_wijk_en_buurt__2012_2016_2020_2022__indeling_2022__11122023_140527.csv'\n",
    "df_buurtatlas = pd.read_csv(path_buurtatlas, header=6, delimiter=';')\n",
    "df_buurtatlas.rename(columns={\"Wijken en buurten\": \"BU_NAAM\", \"naam\": \"GM_NAAM\", \"%\": \"DEPRESSION_RISK\"}, inplace=True)\n",
    "df_buurtatlas.drop_duplicates([\"BU_NAAM\", \"GM_NAAM\"] ,inplace=True)\n",
    "df_buurtatlas.loc[df_buurtatlas[\"GM_NAAM\"] == \"\\'s-Gravenhage\", \"GM_NAAM\"] = \"Den Haag\"\n",
    "df_buurtatlas.info()\n",
    "\n",
    "# Rename some buurten so both dataframes understand it\n",
    "gdf.loc[gdf[\"BU_NAAM\"] == \"BelgiÃ«plein e.o.\", \"BU_NAAM\"] = \"Belgiëplein e.o.\"\n",
    "gdf.loc[gdf[\"BU_NAAM\"] == \"Egelantierstraat, MariÃ«ndaalstraat e.o.\", \"BU_NAAM\"] = \"Egelantierstraat, Mariëndaalstraat e.o.\"\n",
    "gdf.loc[gdf[\"BU_NAAM\"] == \"Breedstraat en Plompetorengracht en omgeving\", \"BU_NAAM\"] = \"Breedstraat en Plompetorengracht e.o.\"\n",
    "gdf.loc[gdf[\"BU_NAAM\"] == \"Lange Elisabethstraat, Mariaplaats en omgeving\", \"BU_NAAM\"] = \"Lange Elisabethstraat, Mariaplaats e.o.\"\n",
    "gdf.loc[gdf[\"BU_NAAM\"] == \"MÃ¡ximapark\", \"BU_NAAM\"] = \"Máximapark\"\n",
    "gdf.loc[gdf[\"BU_NAAM\"] == \"Nieuw Engeland, Th. a. Kempisplantsoen en omgeving\", \"BU_NAAM\"] = \"Nieuw Engeland, Th. a. Kempisplantsoen e\"\n",
    "gdf.loc[gdf[\"BU_NAAM\"] == \"Zeeheldenbuurt, Hengeveldstraat en omgeving\", \"BU_NAAM\"] = \"Zeeheldenbuurt, Hengeveldstraat e.o.\"\n",
    "\n",
    "df_buurtatlas.info()\n",
    "df_buurtatlas.head(5)"
   ]
  },
  {
   "cell_type": "code",
   "execution_count": 112,
   "metadata": {},
   "outputs": [],
   "source": [
    "# Compare the names of BuurtAtlas and CBS \n",
    "names_cbs = gdf.sort_values(\"BU_NAAM\")[\"BU_NAAM\"].unique()\n",
    "names_ba = df_buurtatlas.sort_values(\"BU_NAAM\")[\"BU_NAAM\"].unique()\n",
    "\n",
    "# If this provides no output, every buurt in the gdf has a matching buurtatlas entry\n",
    "for i in range(len(names_cbs)):\n",
    "    if names_cbs[i] not in names_ba:\n",
    "        print(f\"{names_cbs[i]} is not found in the buurtatlas names\")"
   ]
  },
  {
   "cell_type": "code",
   "execution_count": 113,
   "metadata": {},
   "outputs": [],
   "source": [
    "# Merge the two dataframes\n",
    "gdf = gdf.merge(df_buurtatlas, on=[\"BU_NAAM\", \"GM_NAAM\"], how=\"left\")\n"
   ]
  },
  {
   "cell_type": "code",
   "execution_count": 137,
   "metadata": {},
   "outputs": [
    {
     "data": {
      "image/png": "[encoded data removed]",
      "text/plain": [
       "<Figure size 1500x500 with 3 Axes>"
      ]
     },
     "metadata": {},
     "output_type": "display_data"
    },
    {
     "data": {
      "image/png": "[encoded data removed]",
      "text/plain": [
       "<Figure size 1500x500 with 3 Axes>"
      ]
     },
     "metadata": {},
     "output_type": "display_data"
    },
    {
     "name": "stdout",
     "output_type": "stream",
     "text": [
      "<class 'geopandas.geodataframe.GeoDataFrame'>\n",
      "Int64Index: 288 entries, 8 to 898\n",
      "Data columns (total 19 columns):\n",
      " #   Column             Non-Null Count  Dtype   \n",
      "---  ------             --------------  -----   \n",
      " 0   BU_CODE            288 non-null    object  \n",
      " 1   BU_NAAM            288 non-null    object  \n",
      " 2   GM_NAAM            288 non-null    object  \n",
      " 3   BEV_DICHTH         288 non-null    object  \n",
      " 4   P_00_14_JR         288 non-null    object  \n",
      " 5   P_15_24_JR         288 non-null    object  \n",
      " 6   P_25_44_JR         288 non-null    object  \n",
      " 7   P_45_64_JR         288 non-null    object  \n",
      " 8   P_65_EO_JR         288 non-null    object  \n",
      " 9   P_LAAGINKP         288 non-null    object  \n",
      " 10  AO_UIT_TOT         288 non-null    object  \n",
      " 11  WW_UIT_TOT         288 non-null    object  \n",
      " 12  WWB_UITTOT         288 non-null    object  \n",
      " 13  geometry           288 non-null    geometry\n",
      " 14  area               288 non-null    float64 \n",
      " 15  percent_blue       288 non-null    float64 \n",
      " 16  percent_green      288 non-null    float64 \n",
      " 17  DEPRESSION_RISK    288 non-null    object  \n",
      " 18  percent_greenblue  288 non-null    float64 \n",
      "dtypes: float64(4), geometry(1), object(14)\n",
      "memory usage: 45.0+ KB\n"
     ]
    }
   ],
   "source": [
    "gdf[\"percent_greenblue\"] = gdf[\"percent_blue\"] * gdf[\"percent_green\"]\n",
    "gdf[\"percent_greenblue\"] = (gdf[\"percent_greenblue\"] - gdf[\"percent_greenblue\"].min()) / (gdf[\"percent_greenblue\"].max() - gdf[\"percent_greenblue\"].min())\n",
    "\n",
    "nbins = 10\n",
    "\n",
    "# Visualise the distibution of green- and bluespace\n",
    "# TODO: Make this look nice\n",
    "fig, (ax1, ax2, ax3) = plt.subplots(1,3,figsize=(15,5))\n",
    "labels = [\"Amsterdam\", \"Utrecht\", \"Den Haag\", \"Tilburg\", \"Groningen\"]\n",
    "\n",
    "to_plot = []\n",
    "for label in labels:\n",
    "    to_plot.append(gdf[gdf[\"GM_NAAM\"] == label][\"percent_green\"])\n",
    "ax1.hist(to_plot, bins=nbins, histtype=\"bar\", label=labels)\n",
    "ax1.set_ylabel(\"# neighborhoods\")\n",
    "ax1.set_xlabel(\"Green ratio\")\n",
    "ax1.legend()\n",
    "\n",
    "to_plot = []\n",
    "for label in labels:\n",
    "    to_plot.append(gdf[gdf[\"GM_NAAM\"] == label][\"percent_blue\"])\n",
    "ax2.hist(to_plot, bins=nbins, histtype=\"bar\", label=labels)\n",
    "ax2.set_xlabel(\"Blue ratio\")\n",
    "ax2.legend()\n",
    "\n",
    "to_plot = []\n",
    "for label in labels:\n",
    "    to_plot.append(gdf[gdf[\"GM_NAAM\"] == label][\"percent_greenblue\"])\n",
    "ax3.hist(to_plot, bins=nbins, histtype=\"bar\", label=labels)\n",
    "ax3.set_xlabel(\"Green & Blue ratio\")\n",
    "ax3.legend()\n",
    "\n",
    "ax2.set_title(\"Distribution of treatment effect over neighborhoods\")\n",
    "plt.show()\n",
    "drop_frac = 0.9\n",
    "\n",
    "gdf_more_green = gdf.drop(gdf[gdf[\"percent_green\"] < 0.05].sample(frac = drop_frac).index).dropna()\n",
    "gdf_more_blue = gdf.drop(gdf[gdf[\"percent_blue\"] < 0.05].sample(frac = drop_frac).index).dropna()\n",
    "gdf_more_greenblue = gdf.drop(gdf[gdf[\"percent_greenblue\"] < 0.05].sample(frac = drop_frac).index).dropna()\n",
    "\n",
    "\n",
    "# Visualise the distibution of green- and bluespace\n",
    "# TODO: Make this look nice\n",
    "fig, (ax1, ax2, ax3) = plt.subplots(1,3,figsize=(15,5))\n",
    "labels = [\"Amsterdam\", \"Utrecht\", \"Den Haag\", \"Tilburg\", \"Groningen\"]\n",
    "\n",
    "to_plot = []\n",
    "for label in labels:\n",
    "    to_plot.append(gdf_more_green[gdf_more_green[\"GM_NAAM\"] == label][\"percent_green\"])\n",
    "ax1.hist(to_plot, bins=nbins, histtype=\"bar\", label=labels)\n",
    "ax1.legend()\n",
    "\n",
    "to_plot = []\n",
    "for label in labels:\n",
    "    to_plot.append(gdf_more_blue[gdf_more_blue[\"GM_NAAM\"] == label][\"percent_blue\"])\n",
    "ax2.hist(to_plot, bins=nbins, histtype=\"bar\", label=labels)\n",
    "ax2.legend()\n",
    "\n",
    "to_plot = []\n",
    "for label in labels:\n",
    "    to_plot.append(gdf_more_greenblue[gdf_more_greenblue[\"GM_NAAM\"] == label][\"percent_greenblue\"])\n",
    "ax3.hist(to_plot, bins=nbins, histtype=\"bar\", label=labels)\n",
    "ax3.legend()\n",
    "\n",
    "plt.show()\n",
    "\n",
    "gdf_more_green.info()"
   ]
  },
  {
   "cell_type": "code",
   "execution_count": 130,
   "metadata": {},
   "outputs": [
    {
     "name": "stderr",
     "output_type": "stream",
     "text": [
      "/tmp/ipykernel_8330/1580920428.py:1: FutureWarning: In a future version of pandas all arguments of DataFrame.dropna will be keyword-only.\n",
      "  gdf = gdf.drop(gdf[gdf[\"DEPRESSION_RISK\"]==\".\"].index).dropna(\"index\")\n"
     ]
    },
    {
     "name": "stdout",
     "output_type": "stream",
     "text": [
      "<class 'geopandas.geodataframe.GeoDataFrame'>\n",
      "Int64Index: 899 entries, 0 to 898\n",
      "Data columns (total 19 columns):\n",
      " #   Column             Non-Null Count  Dtype   \n",
      "---  ------             --------------  -----   \n",
      " 0   BU_CODE            899 non-null    object  \n",
      " 1   BU_NAAM            899 non-null    object  \n",
      " 2   GM_NAAM            899 non-null    object  \n",
      " 3   BEV_DICHTH         899 non-null    object  \n",
      " 4   P_00_14_JR         899 non-null    object  \n",
      " 5   P_15_24_JR         899 non-null    object  \n",
      " 6   P_25_44_JR         899 non-null    object  \n",
      " 7   P_45_64_JR         899 non-null    object  \n",
      " 8   P_65_EO_JR         899 non-null    object  \n",
      " 9   P_LAAGINKP         899 non-null    object  \n",
      " 10  AO_UIT_TOT         899 non-null    object  \n",
      " 11  WW_UIT_TOT         899 non-null    object  \n",
      " 12  WWB_UITTOT         899 non-null    object  \n",
      " 13  geometry           899 non-null    geometry\n",
      " 14  area               899 non-null    float64 \n",
      " 15  percent_blue       899 non-null    float64 \n",
      " 16  percent_green      899 non-null    float64 \n",
      " 17  DEPRESSION_RISK    899 non-null    object  \n",
      " 18  percent_greenblue  899 non-null    float64 \n",
      "dtypes: float64(4), geometry(1), object(14)\n",
      "memory usage: 140.5+ KB\n"
     ]
    },
    {
     "data": {
      "text/plain": [
       "Amsterdam    403\n",
       "Tilburg      187\n",
       "Den Haag     108\n",
       "Utrecht      106\n",
       "Groningen     95\n",
       "Name: GM_NAAM, dtype: int64"
      ]
     },
     "execution_count": 130,
     "metadata": {},
     "output_type": "execute_result"
    }
   ],
   "source": [
    "gdf = gdf.drop(gdf[gdf[\"DEPRESSION_RISK\"]==\".\"].index).dropna(\"index\")\n",
    "\n",
    "# Save the final datasets\n",
    "gdf_blue.to_csv(\"data/blue_geometries.csv\")\n",
    "gdf_green.to_csv(\"data/green_geometries.csv\")\n",
    "gdf.to_csv(\"data/prepared_data.csv\")\n",
    "gdf_more_green.to_csv(\"data/prepared_data_more_green.csv\")\n",
    "gdf_more_blue.to_csv(\"data/prepared_data_more_blue.csv\")\n",
    "gdf_more_greenblue.to_csv(\"data/prepared_data_more_greenblue.csv\")\n",
    "\n",
    "gdf.info()\n",
    "gdf[\"GM_NAAM\"].value_counts()"
   ]
  },
  {
   "cell_type": "code",
   "execution_count": 59,
   "metadata": {},
   "outputs": [
    {
     "ename": "TypeError",
     "evalue": "Legend.__init__() got an unexpected keyword argument 'label'",
     "output_type": "error",
     "traceback": [
      "\u001b[0;31m---------------------------------------------------------------------------\u001b[0m",
      "\u001b[0;31mTypeError\u001b[0m                                 Traceback (most recent call last)",
      "Cell \u001b[0;32mIn[59], line 10\u001b[0m\n\u001b[1;32m      7\u001b[0m ax\u001b[38;5;241m.\u001b[39mxaxis\u001b[38;5;241m.\u001b[39mset_tick_params(size\u001b[38;5;241m=\u001b[39m\u001b[38;5;241m0\u001b[39m)\n\u001b[1;32m      9\u001b[0m gdf\u001b[38;5;241m.\u001b[39mto_crs(crs_geographical, inplace\u001b[38;5;241m=\u001b[39m\u001b[38;5;28;01mTrue\u001b[39;00m)\n\u001b[0;32m---> 10\u001b[0m \u001b[43mgdf\u001b[49m\u001b[38;5;241;43m.\u001b[39;49m\u001b[43mplot\u001b[49m\u001b[43m(\u001b[49m\u001b[43max\u001b[49m\u001b[38;5;241;43m=\u001b[39;49m\u001b[43max\u001b[49m\u001b[43m,\u001b[49m\u001b[43m \u001b[49m\n\u001b[1;32m     11\u001b[0m \u001b[43m         \u001b[49m\u001b[43mcolumn\u001b[49m\u001b[38;5;241;43m=\u001b[39;49m\u001b[38;5;124;43m\"\u001b[39;49m\u001b[38;5;124;43mDEPRESSION_RISK\u001b[39;49m\u001b[38;5;124;43m\"\u001b[39;49m\u001b[43m,\u001b[49m\u001b[43m \u001b[49m\n\u001b[1;32m     12\u001b[0m \u001b[43m         \u001b[49m\u001b[43mlegend\u001b[49m\u001b[38;5;241;43m=\u001b[39;49m\u001b[38;5;28;43;01mTrue\u001b[39;49;00m\u001b[43m,\u001b[49m\n\u001b[1;32m     13\u001b[0m \u001b[43m         \u001b[49m\u001b[43mlegend_kwds\u001b[49m\u001b[38;5;241;43m=\u001b[39;49m\u001b[43m{\u001b[49m\u001b[38;5;124;43m\"\u001b[39;49m\u001b[38;5;124;43mlabel\u001b[39;49m\u001b[38;5;124;43m\"\u001b[39;49m\u001b[43m:\u001b[49m\u001b[43m \u001b[49m\u001b[38;5;124;43m\"\u001b[39;49m\u001b[38;5;124;43mRisk (\u001b[39;49m\u001b[38;5;124;43m%\u001b[39;49m\u001b[38;5;124;43m)\u001b[39;49m\u001b[38;5;124;43m\"\u001b[39;49m\u001b[43m,\u001b[49m\u001b[43m \u001b[49m\u001b[38;5;124;43m\"\u001b[39;49m\u001b[38;5;124;43morientation\u001b[39;49m\u001b[38;5;124;43m\"\u001b[39;49m\u001b[43m:\u001b[49m\u001b[43m \u001b[49m\u001b[38;5;124;43m\"\u001b[39;49m\u001b[38;5;124;43mhorizontal\u001b[39;49m\u001b[38;5;124;43m\"\u001b[39;49m\u001b[43m}\u001b[49m\n\u001b[1;32m     14\u001b[0m \u001b[43m         \u001b[49m\u001b[43m)\u001b[49m\n\u001b[1;32m     16\u001b[0m ax\u001b[38;5;241m.\u001b[39mset_xlabel(\u001b[38;5;124m\"\u001b[39m\u001b[38;5;124mLong\u001b[39m\u001b[38;5;124m\"\u001b[39m)\n\u001b[1;32m     17\u001b[0m ax\u001b[38;5;241m.\u001b[39mset_ylabel(\u001b[38;5;124m\"\u001b[39m\u001b[38;5;124mLat\u001b[39m\u001b[38;5;124m\"\u001b[39m)\n",
      "File \u001b[0;32m~/.local/lib/python3.10/site-packages/geopandas/plotting.py:979\u001b[0m, in \u001b[0;36mGeoplotAccessor.__call__\u001b[0;34m(self, *args, **kwargs)\u001b[0m\n\u001b[1;32m    977\u001b[0m kind \u001b[38;5;241m=\u001b[39m kwargs\u001b[38;5;241m.\u001b[39mpop(\u001b[38;5;124m\"\u001b[39m\u001b[38;5;124mkind\u001b[39m\u001b[38;5;124m\"\u001b[39m, \u001b[38;5;124m\"\u001b[39m\u001b[38;5;124mgeo\u001b[39m\u001b[38;5;124m\"\u001b[39m)\n\u001b[1;32m    978\u001b[0m \u001b[38;5;28;01mif\u001b[39;00m kind \u001b[38;5;241m==\u001b[39m \u001b[38;5;124m\"\u001b[39m\u001b[38;5;124mgeo\u001b[39m\u001b[38;5;124m\"\u001b[39m:\n\u001b[0;32m--> 979\u001b[0m     \u001b[38;5;28;01mreturn\u001b[39;00m \u001b[43mplot_dataframe\u001b[49m\u001b[43m(\u001b[49m\u001b[43mdata\u001b[49m\u001b[43m,\u001b[49m\u001b[43m \u001b[49m\u001b[38;5;241;43m*\u001b[39;49m\u001b[43margs\u001b[49m\u001b[43m,\u001b[49m\u001b[43m \u001b[49m\u001b[38;5;241;43m*\u001b[39;49m\u001b[38;5;241;43m*\u001b[39;49m\u001b[43mkwargs\u001b[49m\u001b[43m)\u001b[49m\n\u001b[1;32m    980\u001b[0m \u001b[38;5;28;01mif\u001b[39;00m kind \u001b[38;5;129;01min\u001b[39;00m \u001b[38;5;28mself\u001b[39m\u001b[38;5;241m.\u001b[39m_pandas_kinds:\n\u001b[1;32m    981\u001b[0m     \u001b[38;5;66;03m# Access pandas plots\u001b[39;00m\n\u001b[1;32m    982\u001b[0m     \u001b[38;5;28;01mreturn\u001b[39;00m PlotAccessor(data)(kind\u001b[38;5;241m=\u001b[39mkind, \u001b[38;5;241m*\u001b[39m\u001b[38;5;241m*\u001b[39mkwargs)\n",
      "File \u001b[0;32m~/.local/lib/python3.10/site-packages/geopandas/plotting.py:957\u001b[0m, in \u001b[0;36mplot_dataframe\u001b[0;34m(df, column, cmap, color, ax, cax, categorical, legend, scheme, k, vmin, vmax, markersize, figsize, legend_kwds, categories, classification_kwds, missing_kwds, aspect, **style_kwds)\u001b[0m\n\u001b[1;32m    955\u001b[0m     legend_kwds\u001b[38;5;241m.\u001b[39msetdefault(\u001b[38;5;124m\"\u001b[39m\u001b[38;5;124mhandles\u001b[39m\u001b[38;5;124m\"\u001b[39m, patches)\n\u001b[1;32m    956\u001b[0m     legend_kwds\u001b[38;5;241m.\u001b[39msetdefault(\u001b[38;5;124m\"\u001b[39m\u001b[38;5;124mlabels\u001b[39m\u001b[38;5;124m\"\u001b[39m, categories)\n\u001b[0;32m--> 957\u001b[0m     \u001b[43max\u001b[49m\u001b[38;5;241;43m.\u001b[39;49m\u001b[43mlegend\u001b[49m\u001b[43m(\u001b[49m\u001b[38;5;241;43m*\u001b[39;49m\u001b[38;5;241;43m*\u001b[39;49m\u001b[43mlegend_kwds\u001b[49m\u001b[43m)\u001b[49m\n\u001b[1;32m    958\u001b[0m \u001b[38;5;28;01melse\u001b[39;00m:\n\u001b[1;32m    959\u001b[0m     \u001b[38;5;28;01mif\u001b[39;00m cax \u001b[38;5;129;01mis\u001b[39;00m \u001b[38;5;129;01mnot\u001b[39;00m \u001b[38;5;28;01mNone\u001b[39;00m:\n",
      "File \u001b[0;32m~/.local/lib/python3.10/site-packages/matplotlib/axes/_axes.py:318\u001b[0m, in \u001b[0;36mAxes.legend\u001b[0;34m(self, *args, **kwargs)\u001b[0m\n\u001b[1;32m    316\u001b[0m \u001b[38;5;28;01mif\u001b[39;00m \u001b[38;5;28mlen\u001b[39m(extra_args):\n\u001b[1;32m    317\u001b[0m     \u001b[38;5;28;01mraise\u001b[39;00m \u001b[38;5;167;01mTypeError\u001b[39;00m(\u001b[38;5;124m'\u001b[39m\u001b[38;5;124mlegend only accepts two non-keyword arguments\u001b[39m\u001b[38;5;124m'\u001b[39m)\n\u001b[0;32m--> 318\u001b[0m \u001b[38;5;28mself\u001b[39m\u001b[38;5;241m.\u001b[39mlegend_ \u001b[38;5;241m=\u001b[39m \u001b[43mmlegend\u001b[49m\u001b[38;5;241;43m.\u001b[39;49m\u001b[43mLegend\u001b[49m\u001b[43m(\u001b[49m\u001b[38;5;28;43mself\u001b[39;49m\u001b[43m,\u001b[49m\u001b[43m \u001b[49m\u001b[43mhandles\u001b[49m\u001b[43m,\u001b[49m\u001b[43m \u001b[49m\u001b[43mlabels\u001b[49m\u001b[43m,\u001b[49m\u001b[43m \u001b[49m\u001b[38;5;241;43m*\u001b[39;49m\u001b[38;5;241;43m*\u001b[39;49m\u001b[43mkwargs\u001b[49m\u001b[43m)\u001b[49m\n\u001b[1;32m    319\u001b[0m \u001b[38;5;28mself\u001b[39m\u001b[38;5;241m.\u001b[39mlegend_\u001b[38;5;241m.\u001b[39m_remove_method \u001b[38;5;241m=\u001b[39m \u001b[38;5;28mself\u001b[39m\u001b[38;5;241m.\u001b[39m_remove_legend\n\u001b[1;32m    320\u001b[0m \u001b[38;5;28;01mreturn\u001b[39;00m \u001b[38;5;28mself\u001b[39m\u001b[38;5;241m.\u001b[39mlegend_\n",
      "File \u001b[0;32m~/.local/lib/python3.10/site-packages/matplotlib/_api/deprecation.py:454\u001b[0m, in \u001b[0;36mmake_keyword_only.<locals>.wrapper\u001b[0;34m(*args, **kwargs)\u001b[0m\n\u001b[1;32m    448\u001b[0m \u001b[38;5;28;01mif\u001b[39;00m \u001b[38;5;28mlen\u001b[39m(args) \u001b[38;5;241m>\u001b[39m name_idx:\n\u001b[1;32m    449\u001b[0m     warn_deprecated(\n\u001b[1;32m    450\u001b[0m         since, message\u001b[38;5;241m=\u001b[39m\u001b[38;5;124m\"\u001b[39m\u001b[38;5;124mPassing the \u001b[39m\u001b[38;5;132;01m%(name)s\u001b[39;00m\u001b[38;5;124m \u001b[39m\u001b[38;5;132;01m%(obj_type)s\u001b[39;00m\u001b[38;5;124m \u001b[39m\u001b[38;5;124m\"\u001b[39m\n\u001b[1;32m    451\u001b[0m         \u001b[38;5;124m\"\u001b[39m\u001b[38;5;124mpositionally is deprecated since Matplotlib \u001b[39m\u001b[38;5;132;01m%(since)s\u001b[39;00m\u001b[38;5;124m; the \u001b[39m\u001b[38;5;124m\"\u001b[39m\n\u001b[1;32m    452\u001b[0m         \u001b[38;5;124m\"\u001b[39m\u001b[38;5;124mparameter will become keyword-only \u001b[39m\u001b[38;5;132;01m%(removal)s\u001b[39;00m\u001b[38;5;124m.\u001b[39m\u001b[38;5;124m\"\u001b[39m,\n\u001b[1;32m    453\u001b[0m         name\u001b[38;5;241m=\u001b[39mname, obj_type\u001b[38;5;241m=\u001b[39m\u001b[38;5;124mf\u001b[39m\u001b[38;5;124m\"\u001b[39m\u001b[38;5;124mparameter of \u001b[39m\u001b[38;5;132;01m{\u001b[39;00mfunc\u001b[38;5;241m.\u001b[39m\u001b[38;5;18m__name__\u001b[39m\u001b[38;5;132;01m}\u001b[39;00m\u001b[38;5;124m()\u001b[39m\u001b[38;5;124m\"\u001b[39m)\n\u001b[0;32m--> 454\u001b[0m \u001b[38;5;28;01mreturn\u001b[39;00m \u001b[43mfunc\u001b[49m\u001b[43m(\u001b[49m\u001b[38;5;241;43m*\u001b[39;49m\u001b[43margs\u001b[49m\u001b[43m,\u001b[49m\u001b[43m \u001b[49m\u001b[38;5;241;43m*\u001b[39;49m\u001b[38;5;241;43m*\u001b[39;49m\u001b[43mkwargs\u001b[49m\u001b[43m)\u001b[49m\n",
      "\u001b[0;31mTypeError\u001b[0m: Legend.__init__() got an unexpected keyword argument 'label'"
     ]
    },
    {
     "data": {
      "image/png": "[encoded data removed]",
      "text/plain": [
       "<Figure size 640x480 with 1 Axes>"
      ]
     },
     "metadata": {},
     "output_type": "display_data"
    }
   ],
   "source": [
    "fig, ax = plt.subplots(1,1)\n",
    "\n",
    "# This gets rid of the ticks (they're wrong :( )\n",
    "plt.setp(ax.get_yticklabels(), visible=False)\n",
    "ax.yaxis.set_tick_params(size=0)\n",
    "plt.setp(ax.get_xticklabels(), visible=False)\n",
    "ax.xaxis.set_tick_params(size=0)\n",
    "\n",
    "\n",
    "gdf.to_crs(crs_geographical, inplace=True)\n",
    "\n",
    "\n",
    "gdf.plot(ax=ax, \n",
    "         column=\"DEPRESSION_RISK\", \n",
    "         legend=True,\n",
    "         legend_kwds={\"label\": \"Risk (%)\", \"orientation\": \"horizontal\"}\n",
    "         )\n",
    "\n",
    "ax.set_xlabel(\"Long\")\n",
    "ax.set_ylabel(\"Lat\")\n",
    "ax.set_title(\"Depression risk in Amsterdam\")\n",
    "\n",
    "fig.tight_layout()\n",
    "plt.savefig(\"Depression_amsterdam.png\", dpi=300)\n",
    "plt.clf()"
   ]
  },
  {
   "cell_type": "code",
   "execution_count": null,
   "metadata": {},
   "outputs": [],
   "source": []
  }
 ],
 "metadata": {
  "kernelspec": {
   "display_name": "venv",
   "language": "python",
   "name": "venv"
  },
  "language_info": {
   "codemirror_mode": {
    "name": "ipython",
    "version": 3
   },
   "file_extension": ".py",
   "mimetype": "text/x-python",
   "name": "python",
   "nbconvert_exporter": "python",
   "pygments_lexer": "ipython3",
   "version": "3.10.12"
  }
 },
 "nbformat": 4,
 "nbformat_minor": 2
}
